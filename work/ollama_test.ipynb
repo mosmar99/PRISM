{
 "cells": [
  {
   "cell_type": "code",
   "execution_count": null,
   "metadata": {},
   "outputs": [
    {
     "name": "stdout",
     "output_type": "stream",
     "text": [
      "Based on the provided information, here are the potential interactions between Zopiclone and the patient's current medications:\n",
      "\n",
      "* Loxapine:\n",
      "  • Syncope\n",
      "  • Cognitive disorder\n",
      "  • Hypotension\n",
      "  • Sedation\n",
      "  • Central respiratory depression\n",
      "  • Orthostatic intolerance\n",
      "  • Depressed level of consciousness\n",
      "  • Paralytic ileus\n",
      "\n",
      "* Tramadol:\n",
      "  • Toxicity\n",
      "  • Central respiratory depression\n",
      "  • Depressed level of consciousness\n",
      "  • Paralytic ileus\n",
      "  • Geniospasm\n",
      "  • Hypertension\n",
      "  • Hyperthermia\n",
      "  • Mental status change\n"
     ]
    }
   ],
   "source": [
    "import ollama\n",
    "import json\n",
    "\n",
    "model = \"llama3.1:8b-instruct-q8_0\"\n",
    "\n",
    "drug_interactions = \"\"\n",
    "\n",
    "with open(\"../drug_interactions.json\", \"r\") as f:\n",
    "    json_f = json.loads(f.read())\n",
    "\n",
    "    # RAG PLACEHOLDER !\n",
    "    # How to divide input for retrieval, what formatting to use? keyword + similarity search for RAG?\n",
    "    for item in json_f:\n",
    "        string = f\"interacting drugs: {item[\"interacting_drug\"][\"label\"]} and zopiclone, Side effect: {item[\"side_effect\"][\"label\"]}\\n\"\n",
    "        if \"tramadol\" in string or \"loxapine\" in string:\n",
    "            drug_interactions += string\n",
    "\n",
    "user_query = \"patient current medication tramadol and loxapine. proposed medicine zopiclone\"\n",
    "\n",
    "prompt = f\"\"\"\n",
    "<|begin_of_text|><|start_header_id|>system<|end_header_id|>\n",
    "\n",
    "Cutting Knowledge Date: December 2023\n",
    "\n",
    "Drug interactions: \\n{drug_interactions}\\n\n",
    "\n",
    "You are an expert assistant in drug interactions, you will use the drug interactions provided to list interactions for the users query. you will list all relevant side effects in bullet point format for each current medicine. Dont include caution or warning. only use interactions listed in Drug interactions:.\n",
    "<|eot_id|>\n",
    "\n",
    "<|start_header_id|>user<|end_header_id|>\n",
    "{user_query}\n",
    "<|eot_id|>\n",
    "<|start_header_id|>assistant<|end_header_id|>\n",
    "\"\"\"\n",
    "res = ollama.generate(model=model, prompt=prompt)\n",
    "\n",
    "print(res.response)"
   ]
  }
 ],
 "metadata": {
  "kernelspec": {
   "display_name": "Python 3",
   "language": "python",
   "name": "python3"
  },
  "language_info": {
   "codemirror_mode": {
    "name": "ipython",
    "version": 3
   },
   "file_extension": ".py",
   "mimetype": "text/x-python",
   "name": "python",
   "nbconvert_exporter": "python",
   "pygments_lexer": "ipython3",
   "version": "3.12.1"
  }
 },
 "nbformat": 4,
 "nbformat_minor": 2
}
