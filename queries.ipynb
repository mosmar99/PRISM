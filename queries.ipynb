{
 "cells": [
  {
   "cell_type": "code",
   "execution_count": 62,
   "metadata": {},
   "outputs": [
    {
     "name": "stdout",
     "output_type": "stream",
     "text": [
      "Results successfully saved to drug_interactions.json\n"
     ]
    }
   ],
   "source": [
    "# medication specified with it's \"code\" i.e. zopiclone = \"Q220426\"\n",
    "medication = \"wd:\" + \"Q220426\"\n",
    "\n",
    "import sys\n",
    "import json\n",
    "from SPARQLWrapper import SPARQLWrapper, JSON\n",
    "\n",
    "endpoint_url = \"https://query.wikidata.org/sparql\"\n",
    "\n",
    "query = f\"\"\"\n",
    "    PREFIX bd: <http://www.bigdata.com/rdf#>\n",
    "    PREFIX wikibase: <http://wikiba.se/ontology#>\n",
    "    PREFIX wd: <http://www.wikidata.org/entity/>\n",
    "    PREFIX wdt: <http://www.wikidata.org/prop/direct/>\n",
    "\n",
    "    SELECT DISTINCT ?interactingDrug ?interactingDrugLabel ?sideEffect ?sideEffectLabel\n",
    "    WHERE {{\n",
    "        {medication} wdt:P769 ?interactingDrug. #P769 significant drug use.\n",
    "        ?statement ps:P769 ?interactingDrug;   \n",
    "                   pq:P1909 ?sideEffect.   #P1909 side effect\n",
    "\n",
    "        SERVICE wikibase:label {{\n",
    "            bd:serviceParam wikibase:language \"en\" . # get the lables in english\n",
    "        }}\n",
    "    }}\n",
    "    LIMIT 100\n",
    "\"\"\"\n",
    "\n",
    "def get_results(endpoint_url, query):\n",
    "    user_agent = \"WDQS-example Python/%s.%s\" % (sys.version_info[0], sys.version_info[1])\n",
    "    sparql = SPARQLWrapper(endpoint_url, agent=user_agent)\n",
    "    sparql.setQuery(query)\n",
    "    sparql.setReturnFormat(JSON)\n",
    "    return sparql.query().convert()\n",
    "\n",
    "# Run the query\n",
    "results = get_results(endpoint_url, query)\n",
    "\n",
    "# Parse and store results in a list of dictionaries\n",
    "parsed_results = []\n",
    "for result in results[\"results\"][\"bindings\"]:\n",
    "    interacting_drug = result.get(\"interactingDrug\", {}).get(\"value\", \"Unknown\")\n",
    "    interacting_drug_label = result.get(\"interactingDrugLabel\", {}).get(\"value\", \"Unknown\")\n",
    "    side_effect = result.get(\"sideEffect\", {}).get(\"value\", \"Unknown\")\n",
    "    side_effect_label = result.get(\"sideEffectLabel\", {}).get(\"value\", \"No side effect listed\")\n",
    "    \n",
    "    # Extract Q-code from the URI\n",
    "    interacting_drug_code = interacting_drug.split(\"/\")[-1] if interacting_drug != \"Unknown\" else \"Unknown\"\n",
    "    side_effect_code = side_effect.split(\"/\")[-1] if side_effect != \"Unknown\" else \"Unknown\"\n",
    "    \n",
    "    parsed_results.append({\n",
    "        \"interacting_drug\": {\n",
    "            \"label\": interacting_drug_label,\n",
    "            \"code\": interacting_drug_code\n",
    "        },\n",
    "        \"side_effect\": {\n",
    "            \"label\": side_effect_label,\n",
    "            \"code\": side_effect_code\n",
    "        }\n",
    "    })\n",
    "\n",
    "# Write results to a JSON file\n",
    "output_file = \"drug_interactions.json\"\n",
    "with open(output_file, \"w\", encoding=\"utf-8\") as f:\n",
    "    json.dump(parsed_results, f, indent=4, ensure_ascii=False)\n",
    "\n",
    "print(f\"Results successfully saved to {output_file}\")"
   ]
  }
 ],
 "metadata": {
  "language_info": {
   "name": "python"
  }
 },
 "nbformat": 4,
 "nbformat_minor": 2
}
